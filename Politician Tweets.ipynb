{
 "cells": [
  {
   "cell_type": "code",
   "execution_count": 71,
   "metadata": {},
   "outputs": [
    {
     "data": {
      "text/plain": [
       "(86460, 126330)"
      ]
     },
     "execution_count": 71,
     "metadata": {},
     "output_type": "execute_result"
    }
   ],
   "source": [
    "import pandas as pd\n",
    "import numpy as np\n",
    "from sklearn.feature_extraction.text import CountVectorizer\n",
    "\n",
    "t = pd.read_csv('ExtractedTweets.csv')\n",
    "h = pd.read_csv('TwitterHandles.csv')\n",
    "vec = CountVectorizer()\n",
    "X_train_counts = vec.fit_transform(t['Tweet'])\n",
    "X_train_counts.shape"
   ]
  },
  {
   "cell_type": "code",
   "execution_count": 63,
   "metadata": {},
   "outputs": [
    {
     "name": "stderr",
     "output_type": "stream",
     "text": [
      "/home/milo/.local/share/virtualenvs/politician_tweets-f_xPEZST/lib/python3.7/site-packages/ipykernel_launcher.py:6: SettingWithCopyWarning: \n",
      "A value is trying to be set on a copy of a slice from a DataFrame.\n",
      "Try using .loc[row_indexer,col_indexer] = value instead\n",
      "\n",
      "See the caveats in the documentation: http://pandas.pydata.org/pandas-docs/stable/indexing.html#indexing-view-versus-copy\n",
      "  \n"
     ]
    }
   ],
   "source": [
    "df = t[['Party', 'Tweet']]\n",
    "#t[['Party', 'Tweet']].str.split(expand=True).stack().value_counts()\n",
    "#dem = df.groupby('Party').get_group('Democrat')['Tweet'].str.split(expand=True).stack().value_counts()\n",
    "#rep = df.groupby('Party').get_group('Republican')['Tweet'].str.split(expand=True).stack().value_counts()\n",
    "x = pd.DataFrame(t['Party'], t['Tweet'].str.split(expand=True).stack().value_counts())\n",
    "df['Tweet'] = 'hey'"
   ]
  },
  {
   "cell_type": "code",
   "execution_count": null,
   "metadata": {},
   "outputs": [],
   "source": []
  }
 ],
 "metadata": {
  "kernelspec": {
   "display_name": "Python 3",
   "language": "python",
   "name": "python3"
  },
  "language_info": {
   "codemirror_mode": {
    "name": "ipython",
    "version": 3
   },
   "file_extension": ".py",
   "mimetype": "text/x-python",
   "name": "python",
   "nbconvert_exporter": "python",
   "pygments_lexer": "ipython3",
   "version": "3.7.1"
  }
 },
 "nbformat": 4,
 "nbformat_minor": 2
}
