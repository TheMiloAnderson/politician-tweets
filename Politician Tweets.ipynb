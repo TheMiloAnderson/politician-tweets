{
 "cells": [
  {
   "cell_type": "code",
   "execution_count": 2,
   "metadata": {},
   "outputs": [],
   "source": [
    "import pandas as pd\n",
    "import numpy as np\n",
    "\n",
    "t = pd.read_csv('ExtractedTweets.csv')\n",
    "h = pd.read_csv('TwitterHandles.csv')"
   ]
  },
  {
   "cell_type": "code",
   "execution_count": null,
   "metadata": {},
   "outputs": [],
   "source": []
  },
  {
   "cell_type": "code",
   "execution_count": 35,
   "metadata": {},
   "outputs": [
    {
     "data": {
      "text/plain": [
       "the                        29750\n",
       "to                         27927\n",
       "of                         15186\n",
       "and                        14017\n",
       "a                          11724\n",
       "in                         10838\n",
       "for                        10810\n",
       "RT                          9072\n",
       "is                          7436\n",
       "on                          6800\n",
       "I                           6499\n",
       "our                         5171\n",
       "with                        5031\n",
       "&amp;                       4605\n",
       "that                        4562\n",
       "at                          3776\n",
       "are                         3670\n",
       "you                         3567\n",
       "The                         3504\n",
       "this                        3393\n",
       "my                          3174\n",
       "from                        3133\n",
       "we                          3037\n",
       "have                        2807\n",
       "be                          2697\n",
       "will                        2625\n",
       "by                          2466\n",
       "We                          2200\n",
       "was                         2177\n",
       "who                         2154\n",
       "                           ...  \n",
       "https://t.co/CKuNqxMWdi        1\n",
       "https://t.co/IeWSxhhKuS        1\n",
       "https://t.co/H10Dvw3qpV        1\n",
       "https://t.co/GF4H0tCYUA        1\n",
       "0.1%,                          1\n",
       "https://t.co/Aaeq78kfOb        1\n",
       "Members…                       1\n",
       "Cerrito                        1\n",
       "Heisman                        1\n",
       "https://t.co/biYkq1ZZL2        1\n",
       "https://t.co/LE7hwBRa7t        1\n",
       "https://t.co/bvJ04Iof83        1\n",
       "aimed…                         1\n",
       "feliz                          1\n",
       "@carmensunion589               1\n",
       "USAToday:                      1\n",
       "trailblazed                    1\n",
       "Ichiro,                        1\n",
       "force”                         1\n",
       "@AOAforDOs…                    1\n",
       "redact                         1\n",
       "at\":                           1\n",
       "IIEL’s                         1\n",
       "comunicado                     1\n",
       "502-582-5129.                  1\n",
       "https://t.co/G7Xd724zYr        1\n",
       "Nye…                           1\n",
       "selecting                      1\n",
       "weake…                         1\n",
       "1953.                          1\n",
       "Length: 112361, dtype: int64"
      ]
     },
     "execution_count": 35,
     "metadata": {},
     "output_type": "execute_result"
    }
   ],
   "source": [
    "df = t[['Party', 'Tweet']]\n",
    "#t[['Party', 'Tweet']].str.split(expand=True).stack().value_counts()\n",
    "dem = df.groupby('Party').get_group('Democrat')['Tweet'].str.split(expand=True).stack().value_counts()\n",
    "rep = df.groupby('Party').get_group('Republican')['Tweet'].str.split(expand=True).stack().value_counts()"
   ]
  },
  {
   "cell_type": "code",
   "execution_count": null,
   "metadata": {},
   "outputs": [],
   "source": []
  }
 ],
 "metadata": {
  "kernelspec": {
   "display_name": "Python 3",
   "language": "python",
   "name": "python3"
  },
  "language_info": {
   "codemirror_mode": {
    "name": "ipython",
    "version": 3
   },
   "file_extension": ".py",
   "mimetype": "text/x-python",
   "name": "python",
   "nbconvert_exporter": "python",
   "pygments_lexer": "ipython3",
   "version": "3.7.1"
  }
 },
 "nbformat": 4,
 "nbformat_minor": 2
}
