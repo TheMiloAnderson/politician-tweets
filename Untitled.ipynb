{
 "cells": [
  {
   "cell_type": "code",
   "execution_count": 3,
   "metadata": {},
   "outputs": [],
   "source": [
    "import pandas as pd\n",
    "import numpy as np\n",
    "\n",
    "t = pd.read_csv('ExtractedTweets.csv')\n",
    "h = pd.read_csv('TwitterHandles.csv')"
   ]
  },
  {
   "cell_type": "code",
   "execution_count": 11,
   "metadata": {},
   "outputs": [
    {
     "data": {
      "text/plain": [
       "['RT',\n",
       " '@WinterHavenSun:',\n",
       " 'Winter',\n",
       " 'Haven',\n",
       " 'resident',\n",
       " '/',\n",
       " 'Alta',\n",
       " 'Vista',\n",
       " 'teacher',\n",
       " 'is',\n",
       " 'one',\n",
       " 'of',\n",
       " 'several',\n",
       " 'recognized',\n",
       " 'by',\n",
       " '@RepDarrenSoto',\n",
       " 'for',\n",
       " 'National',\n",
       " 'Teacher',\n",
       " 'Apprecia…']"
      ]
     },
     "execution_count": 11,
     "metadata": {},
     "output_type": "execute_result"
    }
   ],
   "source": [
    "t['Tweet'][1].split()"
   ]
  },
  {
   "cell_type": "code",
   "execution_count": null,
   "metadata": {},
   "outputs": [],
   "source": []
  }
 ],
 "metadata": {
  "kernelspec": {
   "display_name": "Python 3",
   "language": "python",
   "name": "python3"
  },
  "language_info": {
   "codemirror_mode": {
    "name": "ipython",
    "version": 3
   },
   "file_extension": ".py",
   "mimetype": "text/x-python",
   "name": "python",
   "nbconvert_exporter": "python",
   "pygments_lexer": "ipython3",
   "version": "3.7.1"
  }
 },
 "nbformat": 4,
 "nbformat_minor": 2
}
