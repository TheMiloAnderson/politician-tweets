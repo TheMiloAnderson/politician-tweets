{
 "cells": [
  {
   "cell_type": "code",
   "execution_count": 1,
   "metadata": {},
   "outputs": [
    {
     "name": "stderr",
     "output_type": "stream",
     "text": [
      "[nltk_data] Downloading package vader_lexicon to\n",
      "[nltk_data]     /Users/woojgh/nltk_data...\n",
      "[nltk_data]   Package vader_lexicon is already up-to-date!\n"
     ]
    }
   ],
   "source": [
    "import pandas as pd\n",
    "import numpy as np\n",
    "import nltk\n",
    "nltk.downloader.download('vader_lexicon')\n",
    "from nltk.sentiment.vader import SentimentIntensityAnalyzer"
   ]
  },
  {
   "cell_type": "code",
   "execution_count": null,
   "metadata": {},
   "outputs": [],
   "source": []
  },
  {
   "cell_type": "code",
   "execution_count": 5,
   "metadata": {},
   "outputs": [
    {
     "name": "stdout",
     "output_type": "stream",
     "text": [
      "None\n",
      "None\n",
      "None\n"
     ]
    },
    {
     "ename": "AttributeError",
     "evalue": "'function' object has no attribute 'pos_word_list'",
     "output_type": "error",
     "traceback": [
      "\u001b[0;31m---------------------------------------------------------------------------\u001b[0m",
      "\u001b[0;31mAttributeError\u001b[0m                            Traceback (most recent call last)",
      "\u001b[0;32m<ipython-input-5-daa82a30e54e>\u001b[0m in \u001b[0;36m<module>\u001b[0;34m\u001b[0m\n\u001b[1;32m     30\u001b[0m     \u001b[0mprint\u001b[0m\u001b[0;34m(\u001b[0m\u001b[0mtweet_score\u001b[0m\u001b[0;34m)\u001b[0m\u001b[0;34m\u001b[0m\u001b[0;34m\u001b[0m\u001b[0m\n\u001b[1;32m     31\u001b[0m \u001b[0;34m\u001b[0m\u001b[0m\n\u001b[0;32m---> 32\u001b[0;31m \u001b[0mprint\u001b[0m\u001b[0;34m(\u001b[0m\u001b[0;34m'Positive :'\u001b[0m\u001b[0;34m,\u001b[0m\u001b[0mword_score\u001b[0m\u001b[0;34m.\u001b[0m\u001b[0mpos_word_list\u001b[0m\u001b[0;34m)\u001b[0m\u001b[0;34m\u001b[0m\u001b[0;34m\u001b[0m\u001b[0m\n\u001b[0m\u001b[1;32m     33\u001b[0m \u001b[0mprint\u001b[0m\u001b[0;34m(\u001b[0m\u001b[0;34m'Neutral :'\u001b[0m\u001b[0;34m,\u001b[0m\u001b[0mword_score\u001b[0m\u001b[0;34m.\u001b[0m\u001b[0mneu_word_list\u001b[0m\u001b[0;34m)\u001b[0m\u001b[0;34m\u001b[0m\u001b[0;34m\u001b[0m\u001b[0m\n\u001b[1;32m     34\u001b[0m \u001b[0mprint\u001b[0m\u001b[0;34m(\u001b[0m\u001b[0;34m'Negative :'\u001b[0m\u001b[0;34m,\u001b[0m\u001b[0mword_score\u001b[0m\u001b[0;34m.\u001b[0m\u001b[0mneg_word_list\u001b[0m\u001b[0;34m)\u001b[0m\u001b[0;34m\u001b[0m\u001b[0;34m\u001b[0m\u001b[0m\n",
      "\u001b[0;31mAttributeError\u001b[0m: 'function' object has no attribute 'pos_word_list'"
     ]
    }
   ],
   "source": [
    "df = pd.read_csv('ExtractedTweets.csv')\n",
    "word_dict = {'#':0}\n",
    "pos_word_list=[]\n",
    "neu_word_list=[]\n",
    "neg_word_list=[]\n",
    "\n",
    "def word_score(list_thing):\n",
    "    sid = SentimentIntensityAnalyzer()\n",
    "\n",
    "\n",
    "    for word in list_thing:\n",
    "        if (sid.polarity_scores(word)['compound']) >= 0.4:\n",
    "            pos_word_list.append(word)\n",
    "        elif (sid.polarity_scores(word)['compound']) <= -0.6:\n",
    "            neg_word_list.append(word)\n",
    "        else:\n",
    "            neu_word_list.append(word)                \n",
    "\n",
    "for tweet in df:\n",
    "    word_lst = [i.lower() for i in df.Tweet[0].split(' ')]\n",
    "    tweet_score = word_score(word_lst)\n",
    "\n",
    "    for i in word_lst:\n",
    "        if i[0] == '#':\n",
    "            word_dict['#'] += 1\n",
    "        else:\n",
    "            if i in word_dict.keys():\n",
    "                word_dict[i] += 1\n",
    "            else:\n",
    "                word_dict[i] = 1\n",
    "    print(tweet_score)\n",
    "    \n",
    "print('Positive :',pos_word_list)        \n",
    "print('Neutral :',neu_word_list)    \n",
    "print('Negative :',neg_word_list)\n",
    "print(word_dict)\n",
    "    "
   ]
  },
  {
   "cell_type": "code",
   "execution_count": null,
   "metadata": {},
   "outputs": [],
   "source": [
    "word_dict = {'#':0}\n",
    "for i in word_lst:\n",
    "    if i[0] == '#':\n",
    "        word_dict['#'] += 1\n",
    "    else:\n",
    "        if i in word_dict.keys():\n",
    "            word_dict[i] += 1\n",
    "        else:\n",
    "            word_dict[i] = 1\n",
    "word_dict"
   ]
  },
  {
   "cell_type": "code",
   "execution_count": null,
   "metadata": {},
   "outputs": [],
   "source": [
    "from sklearn.feature_extraction.text import HashingVectorizer, TfidfVectorizer\n",
    "print(word_lst)\n",
    "hash_vec = HashingVectorizer(n_features=2**4)\n",
    "tfd_vec = TfidfVectorizer()\n",
    "tf = tfd_vec.fit(word_lst)\n",
    "vector = tfd_vec.transform([word_lst[0]])\n",
    "print(tf)\n",
    "print(vector.shape)\n",
    "X = tfd_vec.fit_transform(word_lst)\n",
    "print(X.shape)"
   ]
  },
  {
   "cell_type": "code",
   "execution_count": null,
   "metadata": {},
   "outputs": [],
   "source": [
    " "
   ]
  }
 ],
 "metadata": {
  "kernelspec": {
   "display_name": "Python 3",
   "language": "python",
   "name": "python3"
  },
  "language_info": {
   "codemirror_mode": {
    "name": "ipython",
    "version": 3
   },
   "file_extension": ".py",
   "mimetype": "text/x-python",
   "name": "python",
   "nbconvert_exporter": "python",
   "pygments_lexer": "ipython3",
   "version": "3.7.2"
  }
 },
 "nbformat": 4,
 "nbformat_minor": 2
}
